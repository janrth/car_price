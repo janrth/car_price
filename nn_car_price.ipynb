{
 "cells": [
  {
   "cell_type": "code",
   "execution_count": 4,
   "id": "7633cf6c",
   "metadata": {},
   "outputs": [
    {
     "name": "stdout",
     "output_type": "stream",
     "text": [
      "1.8.1\n"
     ]
    }
   ],
   "source": [
    "import numpy as np\n",
    "import pandas as pd\n",
    "\n",
    "import torch\n",
    "from torch.utils.data import Dataset,DataLoader,TensorDataset\n",
    "import matplotlib.pyplot as plt\n",
    "import torchvision\n",
    "from torchvision import transforms\n",
    "import sklearn\n",
    "from sklearn import metrics\n",
    "import category_encoders as ce\n",
    "from sklearn.model_selection import train_test_split\n",
    "from torch.utils.data.sampler import SubsetRandomSampler\n",
    "from sklearn.preprocessing import LabelEncoder\n",
    "import torch.nn.functional as F\n",
    "#import data_loader_num_cat\n",
    "import neural_net \n",
    "import sys\n",
    "#from ray import tune\n",
    "print(torch.__version__)\n",
    "\n",
    "pd.set_option('display.max_rows', 500)\n",
    "pd.set_option('display.max_columns', 500)\n",
    "pd.set_option('display.width', 1000)"
   ]
  },
  {
   "cell_type": "code",
   "execution_count": 5,
   "id": "8d60bd4b",
   "metadata": {},
   "outputs": [
    {
     "data": {
      "text/plain": [
       "'3.9.4 (default, Apr  9 2021, 09:32:38) \\n[Clang 10.0.0 ]'"
      ]
     },
     "execution_count": 5,
     "metadata": {},
     "output_type": "execute_result"
    }
   ],
   "source": [
    "sys.version"
   ]
  },
  {
   "cell_type": "code",
   "execution_count": 6,
   "id": "d4eafaac",
   "metadata": {},
   "outputs": [
    {
     "name": "stdout",
     "output_type": "stream",
     "text": [
      "\u001b[31mERROR: Could not find a version that satisfies the requirement ray\u001b[0m\r\n",
      "\u001b[31mERROR: No matching distribution found for ray\u001b[0m\r\n"
     ]
    }
   ],
   "source": [
    "!pip install -U ray"
   ]
  },
  {
   "cell_type": "code",
   "execution_count": null,
   "id": "1b8a2bb5",
   "metadata": {},
   "outputs": [],
   "source": [
    "df = pd.read_csv('cars.csv')\n",
    "\n",
    "# Convert boolean to zero/one as category type\n",
    "for col in df.columns:\n",
    "    if df[col].dtype == 'bool':\n",
    "        df[col] = df[col].astype(int).astype(object)\n",
    "        \n",
    "# Use price as target and all other columns as features\n",
    "target = 'price_usd'\n",
    "features = df.columns[df.columns!=target]        "
   ]
  },
  {
   "cell_type": "code",
   "execution_count": 16,
   "id": "f98eb6f6",
   "metadata": {},
   "outputs": [
    {
     "data": {
      "text/plain": [
       "manufacturer_name     object\n",
       "model_name            object\n",
       "transmission          object\n",
       "color                 object\n",
       "odometer_value         int64\n",
       "year_produced          int64\n",
       "engine_fuel           object\n",
       "engine_has_gas        object\n",
       "engine_type           object\n",
       "engine_capacity      float64\n",
       "body_type             object\n",
       "has_warranty          object\n",
       "state                 object\n",
       "drivetrain            object\n",
       "price_usd            float64\n",
       "is_exchangeable       object\n",
       "location_region       object\n",
       "number_of_photos       int64\n",
       "up_counter             int64\n",
       "feature_0             object\n",
       "feature_1             object\n",
       "feature_2             object\n",
       "feature_3             object\n",
       "feature_4             object\n",
       "feature_5             object\n",
       "feature_6             object\n",
       "feature_7             object\n",
       "feature_8             object\n",
       "feature_9             object\n",
       "duration_listed        int64\n",
       "dtype: object"
      ]
     },
     "execution_count": 16,
     "metadata": {},
     "output_type": "execute_result"
    }
   ],
   "source": [
    "df.dtypes"
   ]
  },
  {
   "cell_type": "code",
   "execution_count": 4,
   "id": "a718b68b",
   "metadata": {},
   "outputs": [],
   "source": [
    "# Drop na and define train-test set\n",
    "df = df.dropna().copy()\n",
    "\n",
    "target = 'price_usd'\n",
    "features = df.drop(target, 1).columns\n",
    "\n",
    "X_train, X_test, y_train, y_test = train_test_split(df[features], \n",
    "                                                    df[target],\n",
    "                                                    test_size = 0.2, \n",
    "                                                    random_state = 2)"
   ]
  },
  {
   "cell_type": "code",
   "execution_count": 5,
   "id": "3a6424c0",
   "metadata": {},
   "outputs": [],
   "source": [
    "#CatBoost encoder used for features\n",
    "encoder = ce.CatBoostEncoder()\n",
    "\n",
    "for col in X_train.columns:\n",
    "    if col in features:\n",
    "        if X_train[col].dtype == object:\n",
    "            X_train[col] = encoder.fit_transform(X_train[col], y_train)\n",
    "            X_test[col] = encoder.transform(X_test[col])"
   ]
  },
  {
   "cell_type": "code",
   "execution_count": 17,
   "id": "411c7de0",
   "metadata": {},
   "outputs": [],
   "source": [
    "def pd_to_ptrch(x):\n",
    "    '''\n",
    "    Makes a tensor from a\n",
    "    pandas data frame.\n",
    "    '''\n",
    "    x_torch = torch.tensor(x.values)\n",
    "    return x_torch"
   ]
  },
  {
   "cell_type": "code",
   "execution_count": 18,
   "id": "b0244713",
   "metadata": {},
   "outputs": [],
   "source": [
    "# creating tensor from targets_df \n",
    "X_train_torch = pd_to_ptrch(X_train)\n",
    "y_train_torch = pd_to_ptrch(y_train).to(torch.float32)\n",
    "y_train_torch = y_train_torch.view(-1,1)\n",
    "\n",
    "X_test_torch = pd_to_ptrch(X_test)\n",
    "y_test_torch = pd_to_ptrch(y_test)\n",
    "y_test_torch = pd_to_ptrch(y_test).to(torch.float32)\n",
    "y_test_torch = y_test_torch.view(-1,1)\n",
    "\n",
    "data_train = TensorDataset(X_train_torch, y_train_torch)\n",
    "data_test = TensorDataset(X_test_torch, y_test_torch)"
   ]
  },
  {
   "cell_type": "code",
   "execution_count": 19,
   "id": "6845dd9f",
   "metadata": {},
   "outputs": [],
   "source": [
    "#Initialize model:\n",
    "net = neural_net.TheModel"
   ]
  },
  {
   "cell_type": "code",
   "execution_count": 39,
   "id": "cd301dd9",
   "metadata": {},
   "outputs": [
    {
     "data": {
      "text/plain": [
       "TheModel(\n",
       "  (layers): Sequential(\n",
       "    (0): Linear(in_features=29, out_features=500, bias=True)\n",
       "    (1): ReLU()\n",
       "    (2): Linear(in_features=500, out_features=250, bias=True)\n",
       "    (3): ReLU()\n",
       "    (4): Linear(in_features=250, out_features=1, bias=True)\n",
       "  )\n",
       ")"
      ]
     },
     "execution_count": 39,
     "metadata": {},
     "output_type": "execute_result"
    }
   ],
   "source": [
    "#Define optimizer and loss function\n",
    "model = net(\n",
    "              torch.nn.ReLU, \n",
    "              #torch.nn.RReLU,\n",
    "              #torch.nn.ReLU6,\n",
    "              #torch.nn.LeakyReLU,\n",
    "               #torch.nn.ELU,\n",
    "                False,\n",
    "              [len(X_train.columns), 500, 250, 1])\n",
    "optimizer = torch.optim.Adam(model.parameters(),lr=0.001) \n",
    "#default--> torch.optim.Adam(params, lr=0.001, betas=(0.9, 0.999), \n",
    "#eps=1e-08, weight_decay=0, amsgrad=False)\n",
    "loss_function = torch.nn.MSELoss()\n",
    "model"
   ]
  },
  {
   "cell_type": "code",
   "execution_count": 30,
   "id": "2a7a8642",
   "metadata": {},
   "outputs": [
    {
     "data": {
      "text/plain": [
       "TheModel(\n",
       "  (layers): Sequential(\n",
       "    (0): Linear(in_features=29, out_features=500, bias=True)\n",
       "    (1): ReLU()\n",
       "    (2): Linear(in_features=500, out_features=250, bias=True)\n",
       "    (3): ReLU()\n",
       "    (4): Linear(in_features=250, out_features=1, bias=True)\n",
       "  )\n",
       ")"
      ]
     },
     "execution_count": 30,
     "metadata": {},
     "output_type": "execute_result"
    }
   ],
   "source": [
    "model"
   ]
  },
  {
   "cell_type": "code",
   "execution_count": 41,
   "id": "209c69f3",
   "metadata": {},
   "outputs": [
    {
     "name": "stdout",
     "output_type": "stream",
     "text": [
      "TheModel(\n",
      "  (layers): Sequential(\n",
      "    (0): Linear(in_features=29, out_features=500, bias=True)\n",
      "    (1): ReLU()\n",
      "    (2): Linear(in_features=500, out_features=250, bias=True)\n",
      "    (3): ReLU()\n",
      "    (4): Linear(in_features=250, out_features=1, bias=True)\n",
      "  )\n",
      ")\n",
      "Loss: 44934820.0\n",
      "Loss: 44934820.0\n",
      "-0.580726655066546\n",
      "5778.5083\n",
      "TheModel(\n",
      "  (layers): Sequential(\n",
      "    (0): Linear(in_features=29, out_features=500, bias=True)\n",
      "    (1): RReLU(lower=0.125, upper=0.3333333333333333)\n",
      "    (2): Linear(in_features=500, out_features=250, bias=True)\n",
      "    (3): RReLU(lower=0.125, upper=0.3333333333333333)\n",
      "    (4): Linear(in_features=250, out_features=1, bias=True)\n",
      "  )\n",
      ")\n",
      "Loss: 110548264.0\n",
      "Loss: 110918488.0\n",
      "-2.121778416684031\n",
      "9390.813\n",
      "TheModel(\n",
      "  (layers): Sequential(\n",
      "    (0): Linear(in_features=29, out_features=500, bias=True)\n",
      "    (1): ReLU6()\n",
      "    (2): Linear(in_features=500, out_features=250, bias=True)\n",
      "    (3): ReLU6()\n",
      "    (4): Linear(in_features=250, out_features=1, bias=True)\n",
      "  )\n",
      ")\n",
      "Loss: 62906736.0\n",
      "Loss: 62906736.0\n",
      "-1.0476846406597171\n",
      "6707.5405\n",
      "TheModel(\n",
      "  (layers): Sequential(\n",
      "    (0): Linear(in_features=29, out_features=500, bias=True)\n",
      "    (1): LeakyReLU(negative_slope=0.01)\n",
      "    (2): Linear(in_features=500, out_features=250, bias=True)\n",
      "    (3): LeakyReLU(negative_slope=0.01)\n",
      "    (4): Linear(in_features=250, out_features=1, bias=True)\n",
      "  )\n",
      ")\n",
      "Loss: 39434520.0\n",
      "Loss: 39434520.0\n",
      "-0.4131588648664175\n",
      "5186.3335\n",
      "TheModel(\n",
      "  (layers): Sequential(\n",
      "    (0): Linear(in_features=29, out_features=500, bias=True)\n",
      "    (1): ELU(alpha=1.0)\n",
      "    (2): Linear(in_features=500, out_features=250, bias=True)\n",
      "    (3): ELU(alpha=1.0)\n",
      "    (4): Linear(in_features=250, out_features=1, bias=True)\n",
      "  )\n",
      ")\n",
      "Loss: 38448404.0\n",
      "Loss: 38448404.0\n",
      "-0.36028113452532207\n",
      "5120.293\n"
     ]
    }
   ],
   "source": [
    "relu_list = [torch.nn.ReLU,\n",
    "             torch.nn.RReLU,\n",
    "             torch.nn.ReLU6,\n",
    "             torch.nn.LeakyReLU,\n",
    "             torch.nn.ELU]\n",
    "\n",
    "#activate devices\n",
    "device = torch.device(\"cuda\" if torch.cuda.is_available() else \"cpu\")\n",
    "\n",
    "optimizer = torch.optim.Adam(model.parameters(),lr=0.001)\n",
    "loss_function = torch.nn.MSELoss()\n",
    "\n",
    "training = torch.utils.data.DataLoader(data_train, batch_size=128, shuffle=False)\n",
    "loss_list = []\n",
    "\n",
    "for relu in relu_list:\n",
    "    #training = torch.utils.data.DataLoader(data_train, batch_size=128,shuffle=False)\n",
    "    model = net(relu,\n",
    "                False,\n",
    "               [len(X_train.columns), 500, 250, 1])\n",
    "    print(model)\n",
    "    for epoch in range(2):\n",
    "        for inputs, outputs in training:\n",
    "            inputs, outputs = inputs.to(device), outputs.to(device)\n",
    "            optimizer.zero_grad()\n",
    "            results = model(inputs.float())\n",
    "            loss = loss_function(results, outputs)\n",
    "            loss.backward()\n",
    "            optimizer.step()\n",
    "        print('Loss: {}'.format(loss))  \n",
    "\n",
    "    testing = torch.utils.data.DataLoader(data_test, batch_size=X_test.shape[0], shuffle=False)\n",
    "\n",
    "    for inputs, outputs in testing:\n",
    "        predicted = model(inputs.float()).detach().numpy()\n",
    "        actual = outputs.numpy()\n",
    "        print(sklearn.metrics.r2_score(actual, predicted))\n",
    "        print(sklearn.metrics.mean_absolute_error(actual, predicted))\n",
    "        loss_list.append((sklearn.metrics.mean_absolute_error(actual, predicted),\n",
    "                         str(relu)))"
   ]
  },
  {
   "cell_type": "code",
   "execution_count": 36,
   "id": "0d1f5177",
   "metadata": {},
   "outputs": [
    {
     "data": {
      "text/plain": [
       "TheModel(\n",
       "  (layers): Sequential(\n",
       "    (0): Linear(in_features=29, out_features=500, bias=True)\n",
       "    (1): ReLU()\n",
       "    (2): Linear(in_features=500, out_features=250, bias=True)\n",
       "    (3): ReLU()\n",
       "    (4): Linear(in_features=250, out_features=1, bias=True)\n",
       "  )\n",
       ")"
      ]
     },
     "execution_count": 36,
     "metadata": {},
     "output_type": "execute_result"
    }
   ],
   "source": [
    "model"
   ]
  },
  {
   "cell_type": "code",
   "execution_count": 34,
   "id": "e0b7424d",
   "metadata": {},
   "outputs": [
    {
     "name": "stdout",
     "output_type": "stream",
     "text": [
      "Loss: 122885864.0\n",
      "Loss: 122885864.0\n",
      "Loss: 122885864.0\n",
      "Loss: 122885864.0\n",
      "Loss: 122885864.0\n",
      "Loss: 122885864.0\n",
      "Loss: 122885864.0\n",
      "Loss: 122885864.0\n",
      "Loss: 122885864.0\n",
      "Loss: 122885864.0\n",
      "-2.6587538908037924\n",
      "10991.982\n"
     ]
    }
   ],
   "source": [
    "#activate devices\n",
    "device = torch.device(\"cuda\" if torch.cuda.is_available() else \"cpu\")\n",
    "\n",
    "training = torch.utils.data.DataLoader(data_train, batch_size=64,shuffle=False)\n",
    "\n",
    "for epoch in range(10):\n",
    "    for inputs, outputs in training:\n",
    "        inputs, outputs = inputs.to(device), outputs.to(device)\n",
    "        optimizer.zero_grad()\n",
    "        results = model(inputs.float())\n",
    "        loss = loss_function(results, outputs)\n",
    "        #loss = loss.float()\n",
    "        loss.backward()\n",
    "        optimizer.step()\n",
    "    print('Loss: {}'.format(loss))  \n",
    "    \n",
    "testing = torch.utils.data.DataLoader(data_test, batch_size=X_test.shape[0], shuffle=False)\n",
    "\n",
    "for inputs, outputs in testing:\n",
    "    predicted = model(inputs.float()).detach().numpy()\n",
    "    actual = outputs.numpy()\n",
    "    print(sklearn.metrics.r2_score(actual, predicted))\n",
    "    print(sklearn.metrics.mean_absolute_error(actual, predicted))"
   ]
  },
  {
   "cell_type": "code",
   "execution_count": 35,
   "id": "400ef27a",
   "metadata": {},
   "outputs": [
    {
     "data": {
      "text/plain": [
       "<matplotlib.collections.PathCollection at 0x7fab64ea0700>"
      ]
     },
     "execution_count": 35,
     "metadata": {},
     "output_type": "execute_result"
    },
    {
     "data": {
      "image/png": "[encoded data removed]",
      "text/plain": [
       "<Figure size 432x288 with 1 Axes>"
      ]
     },
     "metadata": {
      "needs_background": "light"
     },
     "output_type": "display_data"
    }
   ],
   "source": [
    "plt.scatter(predicted, actual)"
   ]
  },
  {
   "cell_type": "code",
   "execution_count": null,
   "id": "d00a9382",
   "metadata": {},
   "outputs": [],
   "source": []
  },
  {
   "cell_type": "code",
   "execution_count": null,
   "id": "acb25aab",
   "metadata": {},
   "outputs": [],
   "source": []
  },
  {
   "cell_type": "code",
   "execution_count": null,
   "id": "e3b1e03e",
   "metadata": {},
   "outputs": [],
   "source": []
  },
  {
   "cell_type": "code",
   "execution_count": null,
   "id": "967e077f",
   "metadata": {},
   "outputs": [],
   "source": []
  },
  {
   "cell_type": "code",
   "execution_count": null,
   "id": "b0a6228b",
   "metadata": {},
   "outputs": [],
   "source": []
  },
  {
   "cell_type": "code",
   "execution_count": null,
   "id": "8cfa22d0",
   "metadata": {},
   "outputs": [],
   "source": []
  }
 ],
 "metadata": {
  "kernelspec": {
   "display_name": "Python 3",
   "language": "python",
   "name": "python3"
  },
  "language_info": {
   "codemirror_mode": {
    "name": "ipython",
    "version": 3
   },
   "file_extension": ".py",
   "mimetype": "text/x-python",
   "name": "python",
   "nbconvert_exporter": "python",
   "pygments_lexer": "ipython3",
   "version": "3.9.4"
  }
 },
 "nbformat": 4,
 "nbformat_minor": 5
}
