{
 "cells": [
  {
   "cell_type": "code",
   "execution_count": 1,
   "id": "7633cf6c",
   "metadata": {},
   "outputs": [
    {
     "name": "stdout",
     "output_type": "stream",
     "text": [
      "1.8.1\n"
     ]
    }
   ],
   "source": [
    "import numpy as np\n",
    "import pandas as pd\n",
    "\n",
    "import torch\n",
    "from torch.utils.data import Dataset,DataLoader,TensorDataset\n",
    "import matplotlib.pyplot as plt\n",
    "import torchvision\n",
    "from torchvision import transforms\n",
    "import sklearn\n",
    "from sklearn import metrics\n",
    "import category_encoders as ce\n",
    "from sklearn.model_selection import train_test_split\n",
    "from torch.utils.data.sampler import SubsetRandomSampler\n",
    "from sklearn.preprocessing import LabelEncoder\n",
    "import torch.nn.functional as F\n",
    "#import data_loader_num_cat\n",
    "import neural_net \n",
    "print(torch.__version__)\n",
    "\n",
    "pd.set_option('display.max_rows', 500)\n",
    "pd.set_option('display.max_columns', 500)\n",
    "pd.set_option('display.width', 1000)"
   ]
  },
  {
   "cell_type": "code",
   "execution_count": 2,
   "id": "1b8a2bb5",
   "metadata": {},
   "outputs": [],
   "source": [
    "df = pd.read_csv('cars.csv')\n",
    "\n",
    "# Convert boolean to zero/one as category type\n",
    "for col in df.columns:\n",
    "    if df[col].dtype == 'bool':\n",
    "        df[col] = df[col].astype(int).astype(object)\n",
    "        \n",
    "# Use price as target and all other columns as features\n",
    "target = 'price_usd'\n",
    "features = df.columns[df.columns!=target]        "
   ]
  },
  {
   "cell_type": "code",
   "execution_count": 3,
   "id": "f98eb6f6",
   "metadata": {},
   "outputs": [
    {
     "data": {
      "text/plain": [
       "manufacturer_name     object\n",
       "model_name            object\n",
       "transmission          object\n",
       "color                 object\n",
       "odometer_value         int64\n",
       "year_produced          int64\n",
       "engine_fuel           object\n",
       "engine_has_gas        object\n",
       "engine_type           object\n",
       "engine_capacity      float64\n",
       "body_type             object\n",
       "has_warranty          object\n",
       "state                 object\n",
       "drivetrain            object\n",
       "price_usd            float64\n",
       "is_exchangeable       object\n",
       "location_region       object\n",
       "number_of_photos       int64\n",
       "up_counter             int64\n",
       "feature_0             object\n",
       "feature_1             object\n",
       "feature_2             object\n",
       "feature_3             object\n",
       "feature_4             object\n",
       "feature_5             object\n",
       "feature_6             object\n",
       "feature_7             object\n",
       "feature_8             object\n",
       "feature_9             object\n",
       "duration_listed        int64\n",
       "dtype: object"
      ]
     },
     "execution_count": 3,
     "metadata": {},
     "output_type": "execute_result"
    }
   ],
   "source": [
    "df.dtypes"
   ]
  },
  {
   "cell_type": "code",
   "execution_count": 4,
   "id": "a718b68b",
   "metadata": {},
   "outputs": [],
   "source": [
    "# Drop na and define train-test set\n",
    "df = df.dropna().copy()\n",
    "\n",
    "target = 'price_usd'\n",
    "features = df.drop(target, 1).columns\n",
    "\n",
    "X_train, X_test, y_train, y_test = train_test_split(df[features], \n",
    "                                                    df[target],\n",
    "                                                    test_size = 0.2, \n",
    "                                                    random_state = 2)"
   ]
  },
  {
   "cell_type": "code",
   "execution_count": 5,
   "id": "3a6424c0",
   "metadata": {},
   "outputs": [],
   "source": [
    "#CatBoost encoder used for features\n",
    "encoder = ce.CatBoostEncoder()\n",
    "\n",
    "for col in X_train.columns:\n",
    "    if col in features:\n",
    "        if X_train[col].dtype == object:\n",
    "            X_train[col] = encoder.fit_transform(X_train[col], y_train)\n",
    "            X_test[col] = encoder.transform(X_test[col])"
   ]
  },
  {
   "cell_type": "code",
   "execution_count": 6,
   "id": "411c7de0",
   "metadata": {},
   "outputs": [],
   "source": [
    "def pd_to_ptrch(x):\n",
    "    x_torch = torch.tensor(x.values)\n",
    "    return x_torch"
   ]
  },
  {
   "cell_type": "code",
   "execution_count": 7,
   "id": "b0244713",
   "metadata": {},
   "outputs": [],
   "source": [
    "# creating tensor from targets_df \n",
    "X_train_torch = pd_to_ptrch(X_train)\n",
    "y_train_torch = pd_to_ptrch(y_train).to(torch.float32)\n",
    "y_train_torch = y_train_torch.view(-1,1)\n",
    "\n",
    "X_test_torch = pd_to_ptrch(X_test)\n",
    "y_test_torch = pd_to_ptrch(y_test)\n",
    "y_test_torch = pd_to_ptrch(y_test).to(torch.float32)\n",
    "y_test_torch = y_test_torch.view(-1,1)\n",
    "\n",
    "data_train = TensorDataset(X_train_torch, y_train_torch)\n",
    "data_test = TensorDataset(X_test_torch, y_test_torch)"
   ]
  },
  {
   "cell_type": "code",
   "execution_count": 9,
   "id": "6845dd9f",
   "metadata": {},
   "outputs": [],
   "source": [
    "#Initialize model:\n",
    "net = neural_net.TheModel"
   ]
  },
  {
   "cell_type": "code",
   "execution_count": 11,
   "id": "cd301dd9",
   "metadata": {},
   "outputs": [
    {
     "data": {
      "text/plain": [
       "TheModel(\n",
       "  (layers): Sequential(\n",
       "    (0): Linear(in_features=29, out_features=500, bias=True)\n",
       "    (1): ReLU()\n",
       "    (2): Linear(in_features=500, out_features=250, bias=True)\n",
       "    (3): ReLU()\n",
       "    (4): Linear(in_features=250, out_features=1, bias=True)\n",
       "  )\n",
       ")"
      ]
     },
     "execution_count": 11,
     "metadata": {},
     "output_type": "execute_result"
    }
   ],
   "source": [
    "#Define optimizer and loss function\n",
    "model = net(\n",
    "              torch.nn.ReLU, \n",
    "              #torch.nn.RReLU,\n",
    "              #torch.nn.ReLU6,\n",
    "              #torch.nn.LeakyReLU,\n",
    "               #torch.nn.ELU,\n",
    "                False,\n",
    "              [len(X_train.columns), 500, 250, 1])\n",
    "optimizer = torch.optim.Adam(model.parameters(),lr=0.001) \n",
    "#default--> torch.optim.Adam(params, lr=0.001, betas=(0.9, 0.999), \n",
    "#eps=1e-08, weight_decay=0, amsgrad=False)\n",
    "loss_function = torch.nn.MSELoss()\n",
    "model"
   ]
  },
  {
   "cell_type": "code",
   "execution_count": 12,
   "id": "e0b7424d",
   "metadata": {},
   "outputs": [
    {
     "name": "stdout",
     "output_type": "stream",
     "text": [
      "Loss: 7069170.0\n",
      "Loss: 9434316.0\n",
      "Loss: 8773383.0\n",
      "Loss: 8750412.0\n",
      "Loss: 8559380.0\n",
      "Loss: 8197854.5\n",
      "Loss: 8492614.0\n",
      "Loss: 8119395.0\n",
      "Loss: 7137353.0\n",
      "Loss: 7088066.5\n",
      "0.7793798089602963\n",
      "1933.0284\n"
     ]
    }
   ],
   "source": [
    "#activate devices\n",
    "device = torch.device(\"cuda\" if torch.cuda.is_available() else \"cpu\")\n",
    "\n",
    "training = torch.utils.data.DataLoader(data_train, batch_size=64,shuffle=False)\n",
    "\n",
    "for epoch in range(10):\n",
    "    for inputs, outputs in training:\n",
    "        inputs, outputs = inputs.to(device), outputs.to(device)\n",
    "        optimizer.zero_grad()\n",
    "        results = model(inputs.float())\n",
    "        loss = loss_function(results, outputs)\n",
    "        #loss = loss.float()\n",
    "        loss.backward()\n",
    "        optimizer.step()\n",
    "    print('Loss: {}'.format(loss))  \n",
    "    \n",
    "testing = torch.utils.data.DataLoader(data_test, batch_size=X_test.shape[0], shuffle=False)\n",
    "\n",
    "for inputs, outputs in testing:\n",
    "    predicted = model(inputs.float()).detach().numpy()\n",
    "    actual = outputs.numpy()\n",
    "    print(sklearn.metrics.r2_score(actual, predicted))\n",
    "    print(sklearn.metrics.mean_absolute_error(actual, predicted))"
   ]
  },
  {
   "cell_type": "code",
   "execution_count": 13,
   "id": "400ef27a",
   "metadata": {},
   "outputs": [
    {
     "data": {
      "text/plain": [
       "<matplotlib.collections.PathCollection at 0x7fab50720d30>"
      ]
     },
     "execution_count": 13,
     "metadata": {},
     "output_type": "execute_result"
    },
    {
     "data": {
      "image/png": "[encoded data removed]",
      "text/plain": [
       "<Figure size 432x288 with 1 Axes>"
      ]
     },
     "metadata": {
      "needs_background": "light"
     },
     "output_type": "display_data"
    }
   ],
   "source": [
    "plt.scatter(predicted, actual)"
   ]
  },
  {
   "cell_type": "code",
   "execution_count": null,
   "id": "d00a9382",
   "metadata": {},
   "outputs": [],
   "source": []
  },
  {
   "cell_type": "code",
   "execution_count": null,
   "id": "acb25aab",
   "metadata": {},
   "outputs": [],
   "source": []
  },
  {
   "cell_type": "code",
   "execution_count": null,
   "id": "e3b1e03e",
   "metadata": {},
   "outputs": [],
   "source": []
  },
  {
   "cell_type": "code",
   "execution_count": null,
   "id": "967e077f",
   "metadata": {},
   "outputs": [],
   "source": []
  },
  {
   "cell_type": "code",
   "execution_count": null,
   "id": "b0a6228b",
   "metadata": {},
   "outputs": [],
   "source": []
  },
  {
   "cell_type": "code",
   "execution_count": null,
   "id": "8cfa22d0",
   "metadata": {},
   "outputs": [],
   "source": []
  }
 ],
 "metadata": {
  "kernelspec": {
   "display_name": "Python 3",
   "language": "python",
   "name": "python3"
  },
  "language_info": {
   "codemirror_mode": {
    "name": "ipython",
    "version": 3
   },
   "file_extension": ".py",
   "mimetype": "text/x-python",
   "name": "python",
   "nbconvert_exporter": "python",
   "pygments_lexer": "ipython3",
   "version": "3.9.4"
  }
 },
 "nbformat": 4,
 "nbformat_minor": 5
}
